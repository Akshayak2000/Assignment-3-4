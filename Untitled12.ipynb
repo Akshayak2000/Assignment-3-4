{
  "nbformat": 4,
  "nbformat_minor": 0,
  "metadata": {
    "colab": {
      "provenance": []
    },
    "kernelspec": {
      "name": "python3",
      "display_name": "Python 3"
    },
    "language_info": {
      "name": "python"
    }
  },
  "cells": [
    {
      "cell_type": "code",
      "execution_count": 1,
      "metadata": {
        "colab": {
          "base_uri": "https://localhost:8080/"
        },
        "id": "NFRo6C0KfBVT",
        "outputId": "3e42a8ae-3f55-42f7-abf6-4d8dadf61d2c"
      },
      "outputs": [
        {
          "output_type": "stream",
          "name": "stdout",
          "text": [
            "{'code': 200, 'message': 'Username is available.'}\n"
          ]
        }
      ],
      "source": [
        "import requests\n",
        "\n",
        "url = \"https://gmail-username-availability-check.p.rapidapi.com/gusername\"\n",
        "\n",
        "payload = { \"username\": \"usernameCheck21432232\" }\n",
        "headers = {\n",
        "\t\"content-type\": \"application/json\",\n",
        "\t\"X-RapidAPI-Key\": \"861f712fa2msh4de131fd5a6ba89p1a4713jsnca4b5a59017f\",\n",
        "\t\"X-RapidAPI-Host\": \"gmail-username-availability-check.p.rapidapi.com\"\n",
        "}\n",
        "\n",
        "response = requests.post(url, json=payload, headers=headers)\n",
        "\n",
        "print(response.json())"
      ]
    },
    {
      "cell_type": "code",
      "source": [
        "pip install pyspark\n"
      ],
      "metadata": {
        "colab": {
          "base_uri": "https://localhost:8080/"
        },
        "id": "WdPhVvYtfvBo",
        "outputId": "a4c216a2-ef47-43c4-d20a-39df8dbd6d86"
      },
      "execution_count": 3,
      "outputs": [
        {
          "output_type": "stream",
          "name": "stdout",
          "text": [
            "Collecting pyspark\n",
            "  Downloading pyspark-3.5.1.tar.gz (317.0 MB)\n",
            "\u001b[2K     \u001b[90m━━━━━━━━━━━━━━━━━━━━━━━━━━━━━━━━━━━━━━━━\u001b[0m \u001b[32m317.0/317.0 MB\u001b[0m \u001b[31m2.9 MB/s\u001b[0m eta \u001b[36m0:00:00\u001b[0m\n",
            "\u001b[?25h  Preparing metadata (setup.py) ... \u001b[?25l\u001b[?25hdone\n",
            "Requirement already satisfied: py4j==0.10.9.7 in /usr/local/lib/python3.10/dist-packages (from pyspark) (0.10.9.7)\n",
            "Building wheels for collected packages: pyspark\n",
            "  Building wheel for pyspark (setup.py) ... \u001b[?25l\u001b[?25hdone\n",
            "  Created wheel for pyspark: filename=pyspark-3.5.1-py2.py3-none-any.whl size=317488491 sha256=82bfd70cf594fc9629049433db2b0a30e6effff6fd0e8681f524425d30b602eb\n",
            "  Stored in directory: /root/.cache/pip/wheels/80/1d/60/2c256ed38dddce2fdd93be545214a63e02fbd8d74fb0b7f3a6\n",
            "Successfully built pyspark\n",
            "Installing collected packages: pyspark\n",
            "Successfully installed pyspark-3.5.1\n"
          ]
        }
      ]
    },
    {
      "cell_type": "markdown",
      "source": [
        "#Displaying"
      ],
      "metadata": {
        "id": "hEHEOACAtUKO"
      }
    },
    {
      "cell_type": "code",
      "source": [
        "from pyspark.sql import SparkSession\n",
        "import requests\n",
        "\n",
        "# Initialize SparkSession\n",
        "spark = SparkSession.builder \\\n",
        "    .appName(\"Gmail Username Availability Dashboard\") \\\n",
        "    .getOrCreate()\n",
        "\n",
        "# JSON response from the API\n",
        "url = \"https://gmail-username-availability-check.p.rapidapi.com/gusername\"\n",
        "payload = { \"username\": \"usernameCheck21432232\" }\n",
        "headers = {\n",
        "    \"content-type\": \"application/json\",\n",
        "    \"X-RapidAPI-Key\": \"861f712fa2msh4de131fd5a6ba89p1a4713jsnca4b5a59017f\",\n",
        "    \"X-RapidAPI-Host\": \"gmail-username-availability-check.p.rapidapi.com\"\n",
        "}\n",
        "response = requests.post(url, json=payload, headers=headers)\n",
        "\n",
        "# Check if the response is successful\n",
        "if response.status_code == 200:\n",
        "    # Convert JSON to DataFrame\n",
        "    df = spark.read.json(spark.sparkContext.parallelize([response.json()]))\n",
        "\n",
        "    # Display the DataFrame\n",
        "    df.show()\n",
        "\n",
        "    # For demonstration purposes, let's do a simple count\n",
        "    count = df.count()\n",
        "    print(f\"Total count: {count}\")\n",
        "\n",
        "    # You can perform more operations or visualizations here using PySpark DataFrame API\n",
        "else:\n",
        "    print(\"Failed to fetch data:\", response.status_code)\n",
        "\n",
        "# Stop SparkSession\n",
        "spark.stop()\n"
      ],
      "metadata": {
        "colab": {
          "base_uri": "https://localhost:8080/"
        },
        "id": "XxhSCt7lfHfd",
        "outputId": "73c91101-dc08-4587-cc55-0dbe91d1908e"
      },
      "execution_count": 4,
      "outputs": [
        {
          "output_type": "stream",
          "name": "stdout",
          "text": [
            "+----+--------------------+\n",
            "|code|             message|\n",
            "+----+--------------------+\n",
            "| 200|Username is avail...|\n",
            "+----+--------------------+\n",
            "\n",
            "Total count: 1\n"
          ]
        }
      ]
    }
  ]
}